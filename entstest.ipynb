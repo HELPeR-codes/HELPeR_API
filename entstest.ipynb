{
 "cells": [
  {
   "cell_type": "code",
   "execution_count": 35,
   "metadata": {
    "collapsed": false,
    "jupyter": {
     "outputs_hidden": false
    },
    "pycharm": {
     "name": "#%%\n"
    }
   },
   "outputs": [],
   "source": [
    "import pandas as pd\n",
    "import spacy_dbpedia_spotlight\n",
    "import copy\n",
    "import requests"
   ]
  },
  {
   "cell_type": "code",
   "execution_count": 11,
   "metadata": {},
   "outputs": [],
   "source": [
    "from blueprints.dbpedia_endpoints.key_config import config\n",
    "import operator\n",
    "from blueprints.dbpedia_endpoints.db_util import  preprocessText, get_abstract, get_type, scoring, remove_html,write_notused\n"
   ]
  },
  {
   "cell_type": "code",
   "execution_count": 2,
   "metadata": {
    "collapsed": false,
    "jupyter": {
     "outputs_hidden": false
    },
    "pycharm": {
     "name": "#%%\n"
    }
   },
   "outputs": [],
   "source": [
    "nlpdb = spacy_dbpedia_spotlight.create('en')\n"
   ]
  },
  {
   "cell_type": "code",
   "execution_count": 7,
   "metadata": {
    "collapsed": false,
    "jupyter": {
     "outputs_hidden": false
    },
    "pycharm": {
     "name": "#%%\n"
    }
   },
   "outputs": [],
   "source": [
    " train_file_path = '/Users/khushboo/Workspace/HELPeR_API/data/test.file.path'\n",
    "\n",
    "base_path='/Users/khushboo/Workspace/HELPeR_API/'\n",
    "file = open(train_file_path, 'r', encoding='utf8')\n",
    "for line in file:\n",
    "    count=1\n",
    "    \n"
   ]
  },
  {
   "cell_type": "code",
   "execution_count": 9,
   "metadata": {
    "collapsed": false,
    "jupyter": {
     "outputs_hidden": false
    },
    "pycharm": {
     "name": "#%%\n"
    }
   },
   "outputs": [],
   "source": [
    "text = open(base_path+line.replace(\"\\n\", \"\").strip(), 'r').read()\n",
    "if len(text.strip())  < 10:\n",
    "    print(\"skipping almost empty file \",line)\n",
    "\n"
   ]
  },
  {
   "cell_type": "code",
   "execution_count": 14,
   "metadata": {},
   "outputs": [],
   "source": [
    "text = preprocessText(text,lower=False,stemming=False)\n",
    "doc = nlpdb(text)\n",
    "cols=['concept','tf','dbpedia_url','desc','sim_score','db_link_score','wikipage',\n",
    "      'duplicates','types','is_filtered',\n",
    "      'reason_score','reason_type','reason_link','overall_score','reason_wikipage']\n",
    "db_entities = pd.DataFrame({},columns=cols)\n",
    "uentities = {}\n",
    "# minsc = +1\n",
    "# maxsc = -1\n",
    "# dbpedia_page = []\n",
    "# dbpedia_page_not_selected=[]\n",
    "entity_concept={}\n",
    "entities_list=[]\n",
    "\n"
   ]
  },
  {
   "cell_type": "code",
   "execution_count": null,
   "outputs": [],
   "source": [
    "i=0\n",
    "dict_temp={}\n",
    "for ent in doc.ents:\n",
    "    wikipage=None\n",
    "        \n",
    "    data = requests.get(ent.kb_id_.replace(\"/resource/\", \"/data/\") + \".json\").json()\n",
    "    dbpedia_json = data[ent.kb_id_]\n",
    "\n",
    "    if 'http://xmlns.com/foaf/0.1/isPrimaryTopicOf' in dbpedia_json:\n",
    "        wikipage = dbpedia_json['http://xmlns.com/foaf/0.1/isPrimaryTopicOf'][0]['value']\n",
    "\n",
    "    dict_temp[i]={\n",
    "        'concept_org':ent.text,\n",
    "        'concept': ent.text.lower(),\n",
    "        'dbpedia_url': ent.kb_id_,\n",
    "        'db_link_score':round(float(ent._.dbpedia_raw_result['@similarityScore']),5),\n",
    "        'wikipage': wikipage\n",
    "    }\n",
    "        \n",
    "    i+=1\n",
    "\n",
    "dict_temp1 = pd.DataFrame.from_dict(dict_temp,orient='index')\n",
    "    "
   ],
   "metadata": {
    "collapsed": false,
    "pycharm": {
     "name": "#%%\n"
    }
   }
  },
  {
   "cell_type": "code",
   "execution_count": null,
   "outputs": [],
   "source": [
    "dict_temp1"
   ],
   "metadata": {
    "collapsed": false,
    "pycharm": {
     "name": "#%%\n"
    }
   }
  },
  {
   "cell_type": "code",
   "execution_count": null,
   "outputs": [],
   "source": [
    "def get_wikipage(url):\n",
    "    wikipage=None\n",
    "    data = requests.get(ent.kb_id_.replace(\"/resource/\", \"/data/\") + \".json\").json()\n",
    "    dbpedia_json = data[ent.kb_id_]\n",
    "\n",
    "    if 'http://xmlns.com/foaf/0.1/isPrimaryTopicOf' in dbpedia_json:\n",
    "        wikipage = dbpedia_json['http://xmlns.com/foaf/0.1/isPrimaryTopicOf'][0]['value']\n",
    "    return wikipage"
   ],
   "metadata": {
    "collapsed": false,
    "pycharm": {
     "name": "#%%\n"
    }
   }
  },
  {
   "cell_type": "code",
   "execution_count": null,
   "outputs": [],
   "source": [
    "get_wikipage('http://dbpedia.org/resource/Short-term_memory')"
   ],
   "metadata": {
    "collapsed": false,
    "pycharm": {
     "name": "#%%\n"
    }
   }
  },
  {
   "cell_type": "code",
   "execution_count": 38,
   "metadata": {},
   "outputs": [],
   "source": [
    "def get_wikipage(url):\n",
    "    wikipage=None\n",
    "    data = requests.get(ent.kb_id_.replace(\"/resource/\", \"/data/\") + \".json\").json()\n",
    "    dbpedia_json = data[ent.kb_id_]\n",
    "\n",
    "    if 'http://xmlns.com/foaf/0.1/isPrimaryTopicOf' in dbpedia_json:\n",
    "        wikipage = dbpedia_json['http://xmlns.com/foaf/0.1/isPrimaryTopicOf'][0]['value']\n",
    "    return wikipage"
   ]
  },
  {
   "cell_type": "code",
   "execution_count": 39,
   "metadata": {},
   "outputs": [
    {
     "data": {
      "text/plain": [
       "'http://en.wikipedia.org/wiki/Digital_object_identifier'"
      ]
     },
     "execution_count": 39,
     "metadata": {},
     "output_type": "execute_result"
    }
   ],
   "source": [
    "get_wikipage('http://dbpedia.org/resource/Short-term_memory')"
   ]
  },
  {
   "cell_type": "code",
   "execution_count": null,
   "metadata": {},
   "outputs": [],
   "source": []
  }
 ],
 "metadata": {
  "kernelspec": {
   "display_name": "HELPeR_API5",
   "language": "python",
   "name": "helper_api5"
  },
  "language_info": {
   "codemirror_mode": {
    "name": "ipython",
    "version": 3
   },
   "file_extension": ".py",
   "mimetype": "text/x-python",
   "name": "python",
   "nbconvert_exporter": "python",
   "pygments_lexer": "ipython3",
   "version": "3.9.6"
  }
 },
 "nbformat": 4,
 "nbformat_minor": 4
}